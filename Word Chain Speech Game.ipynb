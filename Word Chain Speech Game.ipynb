{
 "cells": [
  {
   "cell_type": "code",
   "execution_count": 2,
   "metadata": {
    "ExecuteTime": {
     "end_time": "2021-06-29T01:36:22.564768Z",
     "start_time": "2021-06-29T01:36:19.308792Z"
    }
   },
   "outputs": [
    {
     "name": "stderr",
     "output_type": "stream",
     "text": [
      "[nltk_data] Downloading package words to\n",
      "[nltk_data]     C:\\Users\\sjun0004\\AppData\\Roaming\\nltk_data...\n",
      "[nltk_data]   Package words is already up-to-date!\n"
     ]
    }
   ],
   "source": [
    "import pandas as pd\n",
    "from pprint import pprint\n",
    "import re\n",
    "from re import sub\n",
    "import matplotlib.pyplot as plt\n",
    "import emoji\n",
    "import nltk\n",
    "import random\n",
    "nltk.download('words')\n",
    "from nltk.corpus import stopwords\n",
    "from nltk.corpus import words\n",
    "from tqdm.notebook import tqdm\n",
    "import shutil\n",
    "import os\n",
    "import numpy as np\n",
    "from nltk.tokenize import sent_tokenize\n",
    "from datetime import datetime\n",
    "# import datetime\n",
    "# import cx_Oracle\n",
    "import speech_recognition as sr \n",
    "import pyttsx3  \n",
    "from IPython.display import display\n",
    "from IPython.display import clear_output\n",
    "# from pandas_profiling import ProfileReport\n",
    "pd.set_option('display.max_columns', None)\n",
    "# pd.set_option('display.max_rows', None)\n",
    "import warnings\n",
    "warnings.filterwarnings('ignore')"
   ]
  },
  {
   "cell_type": "code",
   "execution_count": 3,
   "metadata": {
    "ExecuteTime": {
     "end_time": "2021-06-29T01:36:22.704767Z",
     "start_time": "2021-06-29T01:36:22.566768Z"
    }
   },
   "outputs": [
    {
     "data": {
      "text/plain": [
       "236736"
      ]
     },
     "execution_count": 3,
     "metadata": {},
     "output_type": "execute_result"
    }
   ],
   "source": [
    "len(words.words())"
   ]
  },
  {
   "cell_type": "code",
   "execution_count": 4,
   "metadata": {
    "ExecuteTime": {
     "end_time": "2021-06-29T01:36:22.711771Z",
     "start_time": "2021-06-29T01:36:22.706769Z"
    }
   },
   "outputs": [],
   "source": [
    "# Initialize the recognizer  \n",
    "r = sr.Recognizer()  \n",
    "  \n",
    "# Function to convert text to \n",
    "# speech \n",
    "def SpeakText(command): \n",
    "      \n",
    "    # Initialize the engine \n",
    "    engine = pyttsx3.init() \n",
    "    newVoiceRate = 130\n",
    "    engine.setProperty('rate',newVoiceRate)\n",
    "    engine.say(command)  \n",
    "    engine.runAndWait() \n",
    "    \n"
   ]
  },
  {
   "cell_type": "code",
   "execution_count": 7,
   "metadata": {
    "ExecuteTime": {
     "end_time": "2021-06-29T01:37:12.791490Z",
     "start_time": "2021-06-29T01:36:52.700957Z"
    }
   },
   "outputs": [
    {
     "name": "stdout",
     "output_type": "stream",
     "text": [
      "Computers word : lost\n",
      "Say your word: nos\n",
      "\n",
      "\n",
      "Your game has ended!!\n"
     ]
    }
   ],
   "source": [
    "corp = [word.lower() for word in words.words()]\n",
    "used = []\n",
    "# x = input(\"Enter the Starting Word: \")\n",
    "with sr.Microphone() as source2: \n",
    "\n",
    "    # wait for a second to let the recognizer \n",
    "    # adjust the energy threshold based on \n",
    "    # the surrounding noise level  \n",
    "    r.adjust_for_ambient_noise(source2, duration=0.2) \n",
    "\n",
    "    #listens for the user's input \n",
    "    SpeakText(\"Say the Starting word\")\n",
    "    print(\"Say the Starting word: \",end=\"\")\n",
    "    audio2 = r.listen(source2) \n",
    "\n",
    "    # Using ggogle to recognize audio \n",
    "    MyText = r.recognize_google(audio2) \n",
    "    x = MyText.lower() \n",
    "\n",
    "    print(x)\n",
    "end = x[0] \n",
    "while True:\n",
    "    \n",
    "    if len(x)>0 and x not in used:\n",
    "\n",
    "        start = x[-1]\n",
    "#         print(\"word -\" ,x)\n",
    "        if x in corp and x[0] == end:\n",
    "            SpeakText(\"You said \"+x)\n",
    "            corp.remove(x)\n",
    "            used.append(x)\n",
    "\n",
    "            comp_word = random.choice([i for i in corp if i[0]==start and len(x)-3<len(i)<len(x)+2])\n",
    "            clear_output(wait=True)\n",
    "            \n",
    "            print(\"Computers word :\", comp_word)\n",
    "            SpeakText(\"Computer says \"+comp_word)\n",
    "            \n",
    "#             x = input(\"Enter your word: \")\n",
    "            \n",
    "            \n",
    "            with sr.Microphone() as source2: \n",
    "\n",
    "                # wait for a second to let the recognizer \n",
    "                # adjust the energy threshold based on \n",
    "                # the surrounding noise level  \n",
    "                r.adjust_for_ambient_noise(source2, duration=0.2) \n",
    "                \n",
    "                try:\n",
    "                    #listens for the user's input\n",
    "                    print(\"Say your word: \",end=\"\")\n",
    "                    audio2 = r.listen(source2) \n",
    "\n",
    "                    # Using google to recognize audio \n",
    "                    MyText = r.recognize_google(audio2) \n",
    "                    x = MyText.lower() \n",
    "\n",
    "                    print(x)\n",
    "#                     SpeakText(\"You said \"+x)\n",
    "                except:\n",
    "                    SpeakText(\"I didn't recognise that!\")\n",
    "                    x = \"that\"\n",
    "            end = comp_word[-1]\n",
    "            \n",
    "\n",
    "        else:\n",
    "            break\n",
    "    else:\n",
    "        break\n",
    "    \n",
    "print(\"\\n\\nYour game has ended!!\")\n",
    "SpeakText(\"Oh no!\"+x+\" is not a valid word, Your game has ended!\")"
   ]
  },
  {
   "cell_type": "code",
   "execution_count": null,
   "metadata": {},
   "outputs": [],
   "source": [
    "with sr.Microphone() as source2: \n",
    "    audio2 = r.listen(source2) \n",
    "    r.recognize_bing()"
   ]
  },
  {
   "cell_type": "code",
   "execution_count": null,
   "metadata": {},
   "outputs": [],
   "source": []
  }
 ],
 "metadata": {
  "kernelspec": {
   "display_name": "Python 3",
   "language": "python",
   "name": "python3"
  },
  "language_info": {
   "codemirror_mode": {
    "name": "ipython",
    "version": 3
   },
   "file_extension": ".py",
   "mimetype": "text/x-python",
   "name": "python",
   "nbconvert_exporter": "python",
   "pygments_lexer": "ipython3",
   "version": "3.7.7"
  },
  "toc": {
   "base_numbering": 1,
   "nav_menu": {},
   "number_sections": true,
   "sideBar": true,
   "skip_h1_title": false,
   "title_cell": "Table of Contents",
   "title_sidebar": "Contents",
   "toc_cell": false,
   "toc_position": {},
   "toc_section_display": true,
   "toc_window_display": false
  }
 },
 "nbformat": 4,
 "nbformat_minor": 4
}
